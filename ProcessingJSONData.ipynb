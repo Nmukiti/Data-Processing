{
 "cells": [
  {
   "cell_type": "code",
   "execution_count": null,
   "metadata": {},
   "outputs": [],
   "source": [
    "#JSON file stores data as text in human-readable format. JSON stands for JavaScript Object Notation. \n",
    "#Pandas can read JSON files using the read_json function.\n",
    "\n",
    "#Input Data\n",
    "#Create a JSON file by copying the below data into a text editor like notepad. \n",
    "#Save the file with .json extension and choosing the file type as all files(*.*).\n",
    "\n"
   ]
  },
  {
   "cell_type": "code",
   "execution_count": 3,
   "metadata": {},
   "outputs": [
    {
     "name": "stdout",
     "output_type": "stream",
     "text": [
      "   ID      Name  Salary   StartDate        Dept\n",
      "0   1      Rick  623.30    1/1/2012          IT\n",
      "1   2       Dan  515.20   9/23/2013  Operations\n",
      "2   3  Michelle  611.00  11/15/2014          IT\n",
      "3   4      Ryan  729.00   5/11/2014          HR\n",
      "4   5      Gary  843.25   3/27/2015     Finance\n",
      "5   6      Nina  578.00   5/21/2013          IT\n",
      "6   7     Simon  632.80   7/30/2013  Operations\n",
      "7   8      Guru  722.50   6/17/2014     Finance\n"
     ]
    }
   ],
   "source": [
    "#Read the JSON File\n",
    "#The read_json function of the pandas library can be used to read the JSON file into a pandas DataFrame.\n",
    "\n",
    "#Reading a JSON File\n",
    "import pandas as pd\n",
    "\n",
    "with open('C:/Users/Naum/Desktop/PythonData/json/input.json') as f:\n",
    "  data = pd.read_json(f)\n",
    "\n",
    "print (data)"
   ]
  },
  {
   "cell_type": "code",
   "execution_count": 4,
   "metadata": {},
   "outputs": [
    {
     "name": "stdout",
     "output_type": "stream",
     "text": [
      "   ID      Name  Salary   StartDate        Dept\n",
      "0   1      Rick  623.30    1/1/2012          IT\n",
      "1   2       Dan  515.20   9/23/2013  Operations\n",
      "2   3  Michelle  611.00  11/15/2014          IT\n",
      "3   4      Ryan  729.00   5/11/2014          HR\n",
      "4   5      Gary  843.25   3/27/2015     Finance\n",
      "5   6      Nina  578.00   5/21/2013          IT\n",
      "6   7     Simon  632.80   7/30/2013  Operations\n",
      "7   8      Guru  722.50   6/17/2014     Finance\n"
     ]
    }
   ],
   "source": [
    "#Read the JSON File\n",
    "#The read_json function of the pandas library can be used to read the JSON file into a pandas DataFrame.\n",
    "\n",
    "#Reading a JSON File\n",
    "\n",
    "import pandas as pd\n",
    "\n",
    "data = pd.read_json('C:/Users/Naum/Desktop/PythonData/json/input.json')\n",
    "print (data)"
   ]
  },
  {
   "cell_type": "code",
   "execution_count": 5,
   "metadata": {},
   "outputs": [
    {
     "name": "stdout",
     "output_type": "stream",
     "text": [
      "   ID      Name  Salary   StartDate        Dept\n",
      "0   1      Rick  623.30    1/1/2012          IT\n",
      "1   2       Dan  515.20   9/23/2013  Operations\n",
      "2   3  Michelle  611.00  11/15/2014          IT\n",
      "3   4      Ryan  729.00   5/11/2014          HR\n",
      "4   5      Gary  843.25   3/27/2015     Finance\n",
      "5   6      Nina  578.00   5/21/2013          IT\n",
      "6   7     Simon  632.80   7/30/2013  Operations\n",
      "7   8      Guru  722.50   6/17/2014     Finance\n"
     ]
    }
   ],
   "source": [
    "#Read the JSON File\n",
    "#The read_json function of the pandas library can be used to read the JSON file into a pandas DataFrame.\n",
    "\n",
    "#Reading a JSON File\n",
    "\n",
    "import pandas as pd\n",
    "dataframe= pd.read_json(\"C:/Users/Naum/Desktop/PythonData/json/input.json\")\n",
    "df=pd.DataFrame(dataframe)\n",
    "print (df)"
   ]
  },
  {
   "cell_type": "code",
   "execution_count": 6,
   "metadata": {},
   "outputs": [
    {
     "name": "stdout",
     "output_type": "stream",
     "text": [
      "   Salary  Name\n",
      "1   515.2   Dan\n",
      "3   729.0  Ryan\n",
      "5   578.0  Nina\n"
     ]
    }
   ],
   "source": [
    "#Reading Specific Columns and Rows\n",
    "#We use the multi-axes indexing method called .loc() to read some specific columns and specific rows after the JSON file is read to a DataFrame\n",
    "\n",
    "import pandas as pd\n",
    "dataframe= pd.read_json(\"C:/Users/Naum/Desktop/PythonData/json/input.json\")\n",
    "df=pd.DataFrame(dataframe)\n",
    "print (data.loc[[1,3,5],['Salary','Name']])"
   ]
  },
  {
   "cell_type": "code",
   "execution_count": 7,
   "metadata": {},
   "outputs": [
    {
     "name": "stdout",
     "output_type": "stream",
     "text": [
      "   Salary  Name\n",
      "1   515.2   Dan\n",
      "3   729.0  Ryan\n",
      "5   578.0  Nina\n"
     ]
    }
   ],
   "source": [
    "#Reading Specific Columns and Rows\n",
    "#We use the multi-axes indexing method called .loc() to read some specific columns and specific rows after the JSON file is read to a DataFrame\n",
    "\n",
    "\n",
    "import pandas as pd\n",
    "data = pd.read_json('C:/Users/Naum/Desktop/PythonData/json/input.json')\n",
    "\n",
    "# Use the multi-axes indexing funtion\n",
    "print (data.loc[[1,3,5],['Salary','Name']])"
   ]
  },
  {
   "cell_type": "code",
   "execution_count": 8,
   "metadata": {},
   "outputs": [
    {
     "name": "stdout",
     "output_type": "stream",
     "text": [
      "{\"ID\":1,\"Name\":\"Rick\",\"Salary\":623.3,\"StartDate\":\"1\\/1\\/2012\",\"Dept\":\"IT\"}\n",
      "{\"ID\":2,\"Name\":\"Dan\",\"Salary\":515.2,\"StartDate\":\"9\\/23\\/2013\",\"Dept\":\"Operations\"}\n",
      "{\"ID\":3,\"Name\":\"Michelle\",\"Salary\":611.0,\"StartDate\":\"11\\/15\\/2014\",\"Dept\":\"IT\"}\n",
      "{\"ID\":4,\"Name\":\"Ryan\",\"Salary\":729.0,\"StartDate\":\"5\\/11\\/2014\",\"Dept\":\"HR\"}\n",
      "{\"ID\":5,\"Name\":\"Gary\",\"Salary\":843.25,\"StartDate\":\"3\\/27\\/2015\",\"Dept\":\"Finance\"}\n",
      "{\"ID\":6,\"Name\":\"Nina\",\"Salary\":578.0,\"StartDate\":\"5\\/21\\/2013\",\"Dept\":\"IT\"}\n",
      "{\"ID\":7,\"Name\":\"Simon\",\"Salary\":632.8,\"StartDate\":\"7\\/30\\/2013\",\"Dept\":\"Operations\"}\n",
      "{\"ID\":8,\"Name\":\"Guru\",\"Salary\":722.5,\"StartDate\":\"6\\/17\\/2014\",\"Dept\":\"Finance\"}\n"
     ]
    }
   ],
   "source": [
    "#Reading JSON file as Records\n",
    "#We can also apply the to_json function along with parameters to read the JSON file content into individual records.\n",
    "\n",
    "import pandas as pd\n",
    "data = pd.read_json('C:/Users/Naum/Desktop/PythonData/json/input.json')\n",
    "\n",
    "print(data.to_json(orient='records', lines=True))"
   ]
  }
 ],
 "metadata": {
  "kernelspec": {
   "display_name": "Python 3",
   "language": "python",
   "name": "python3"
  },
  "language_info": {
   "codemirror_mode": {
    "name": "ipython",
    "version": 3
   },
   "file_extension": ".py",
   "mimetype": "text/x-python",
   "name": "python",
   "nbconvert_exporter": "python",
   "pygments_lexer": "ipython3",
   "version": "3.8.5"
  }
 },
 "nbformat": 4,
 "nbformat_minor": 4
}
