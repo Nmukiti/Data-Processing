{
 "cells": [
  {
   "cell_type": "code",
   "execution_count": 17,
   "metadata": {},
   "outputs": [
    {
     "name": "stdout",
     "output_type": "stream",
     "text": [
      "Line 1: Python is an interpreted high-level programming language for general-purpose programming. Created by Guido van Rossum and first released in 1991, Python has a design philosophy that emphasizes code readability, notably using significant whitespace. It provides constructs that enable clear programming on both small and large scales.\n",
      "Line 2: Python features a dynamic type system and automatic memory management. It supports multiple programming paradigms, including object-oriented, imperative, functional and procedural, and has a large and comprehensive standard library.\n",
      "Line 3: Python interpreters are available for many operating systems. CPython, the reference implementation of Python, is open source software and has a community-based development model, as do nearly all of its variant implementations. CPython is managed by the non-profit Python Software Foundation.\n"
     ]
    }
   ],
   "source": [
    "#Reading Data\n",
    "\n",
    "filename = (r'''C:\\Users\\Naum\\Desktop\\PythonData\\input.txt''')\n",
    "with open(filename) as fn:  \n",
    "# Read each line\n",
    "   ln = fn.readline()\n",
    "# Keep count of lines\n",
    "   lncnt = 1\n",
    "   while ln:\n",
    "       print(\"Line {}: {}\".format(lncnt, ln.strip()))\n",
    "       ln = fn.readline()\n",
    "       lncnt += 1"
   ]
  },
  {
   "cell_type": "code",
   "execution_count": 18,
   "metadata": {},
   "outputs": [
    {
     "name": "stdout",
     "output_type": "stream",
     "text": [
      "Counter({'and': 7, 'Python': 5, 'a': 4, 'is': 3, 'programming': 3, 'has': 3, 'for': 2, 'by': 2, 'that': 2, 'It': 2, 'large': 2, 'the': 2, 'of': 2, 'an': 1, 'interpreted': 1, 'high-level': 1, 'language': 1, 'general-purpose': 1, 'programming.': 1, 'Created': 1, 'Guido': 1, 'van': 1, 'Rossum': 1, 'first': 1, 'released': 1, 'in': 1, '1991,': 1, 'design': 1, 'philosophy': 1, 'emphasizes': 1, 'code': 1, 'readability,': 1, 'notably': 1, 'using': 1, 'significant': 1, 'whitespace.': 1, 'provides': 1, 'constructs': 1, 'enable': 1, 'clear': 1, 'on': 1, 'both': 1, 'small': 1, 'scales.': 1, 'features': 1, 'dynamic': 1, 'type': 1, 'system': 1, 'automatic': 1, 'memory': 1, 'management.': 1, 'supports': 1, 'multiple': 1, 'paradigms,': 1, 'including': 1, 'object-oriented,': 1, 'imperative,': 1, 'functional': 1, 'procedural,': 1, 'comprehensive': 1, 'standard': 1, 'library.': 1, 'interpreters': 1, 'are': 1, 'available': 1, 'many': 1, 'operating': 1, 'systems.': 1, 'CPython,': 1, 'reference': 1, 'implementation': 1, 'Python,': 1, 'open': 1, 'source': 1, 'software': 1, 'community-based': 1, 'development': 1, 'model,': 1, 'as': 1, 'do': 1, 'nearly': 1, 'all': 1, 'its': 1, 'variant': 1, 'implementations.': 1, 'CPython': 1, 'managed': 1, 'non-profit': 1, 'Software': 1, 'Foundation.': 1})\n"
     ]
    }
   ],
   "source": [
    "#Counting Word Frequency\n",
    "\n",
    "from collections import Counter\n",
    "\n",
    "with open(r'''C:\\Users\\Naum\\Desktop\\PythonData\\input.txt''') as f:\n",
    "               p = Counter(f.read().split())\n",
    "               print(p)"
   ]
  }
 ],
 "metadata": {
  "kernelspec": {
   "display_name": "Python 3",
   "language": "python",
   "name": "python3"
  },
  "language_info": {
   "codemirror_mode": {
    "name": "ipython",
    "version": 3
   },
   "file_extension": ".py",
   "mimetype": "text/x-python",
   "name": "python",
   "nbconvert_exporter": "python",
   "pygments_lexer": "ipython3",
   "version": "3.8.5"
  }
 },
 "nbformat": 4,
 "nbformat_minor": 4
}
