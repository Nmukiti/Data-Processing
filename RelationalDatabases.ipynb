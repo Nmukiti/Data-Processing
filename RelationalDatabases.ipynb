{
 "cells": [
  {
   "cell_type": "code",
   "execution_count": 6,
   "metadata": {},
   "outputs": [
    {
     "name": "stdout",
     "output_type": "stream",
     "text": [
      "Result 1\n",
      "   index  id    name  salary  start_date        dept\n",
      "0      0   1    Rick  623.30  2012-01-01          IT\n",
      "1      1   2     Dan  515.20  2013-09-23  Operations\n",
      "2      2   3   Tusar  611.00  2014-11-15          IT\n",
      "3      3   4    Ryan  729.00  2014-05-11          HR\n",
      "4      4   5    Gary  843.25  2015-03-27     Finance\n",
      "5      5   6   Rasmi  578.00  2013-05-21          IT\n",
      "6      6   7  Pranab  632.80  2013-07-30  Operations\n",
      "7      7   8    Guru  722.50  2014-06-17     Finance\n",
      "\n",
      "Result 2\n",
      "         dept  sum(salary)\n",
      "0     Finance      1565.75\n",
      "1          HR       729.00\n",
      "2          IT      1812.30\n",
      "3  Operations      1148.00\n"
     ]
    }
   ],
   "source": [
    "#Reading Relational Tables\n",
    "#In the below example we create the relational table by using the to_sql function from a dataframe already created by reading a csv file. \n",
    "#Then we use the read_sql_query function from pandas to execute and capture the results from various SQL queries\n",
    "from sqlalchemy import create_engine\n",
    "import pandas as pd\n",
    "\n",
    "data = pd.read_csv('C:/Users/Naum/Desktop/PythonData/csv/input.csv')\n",
    "\n",
    "# Create the db engine\n",
    "engine = create_engine('sqlite:///:memory:')\n",
    "\n",
    "# Store the dataframe as a table\n",
    "data.to_sql('data_table', engine)\n",
    "\n",
    "# Query 1 on the relational table\n",
    "res1 = pd.read_sql_query('SELECT * FROM data_table', engine)\n",
    "print('Result 1')\n",
    "print(res1)\n",
    "print('')\n",
    "\n",
    "# Query 2 on the relational table\n",
    "#GROUP BY clause divides the rows in a table into smaller groups.(sum of all IT salaries, Operations,HR and Finance separetely)\n",
    "res2 = pd.read_sql_query('SELECT dept,sum(salary) FROM data_table group by dept', engine)\n",
    "print('Result 2')\n",
    "print(res2)"
   ]
  },
  {
   "cell_type": "code",
   "execution_count": 7,
   "metadata": {},
   "outputs": [
    {
     "name": "stdout",
     "output_type": "stream",
     "text": [
      "   id        dept    name  salary  start_date\n",
      "0   1          IT    Rick  623.30  2012-01-01\n",
      "1   2  Operations     Dan  515.20  2013-09-23\n",
      "2   3          IT   Tusar  611.00  2014-11-15\n",
      "3   4          HR    Ryan  729.00  2014-05-11\n",
      "4   5     Finance    Gary  843.25  2015-03-27\n",
      "5   6          IT   Rasmi  578.00  2013-05-21\n",
      "6   7  Operations  Pranab  632.80  2013-07-30\n",
      "7   8     Finance    Guru  722.50  2014-06-17\n",
      "8   9          IT    Ruby  711.20  2015-03-27\n"
     ]
    }
   ],
   "source": [
    "#Inserting Data to Relational Tables\n",
    "#We can also insert data into relational tables using sql.execute function available in pandas. \n",
    "#In the below code we previous csv file as input data set, store it in a relational table and then insert another record using sql.execute.\n",
    "\n",
    "from sqlalchemy import create_engine\n",
    "from pandas.io import sql\n",
    "\n",
    "import pandas as pd\n",
    "\n",
    "data = pd.read_csv('C:/Users/Naum/Desktop/PythonData/csv/input.csv')\n",
    "engine = create_engine('sqlite:///:memory:')\n",
    "\n",
    "# Store the Data in a relational table\n",
    "data.to_sql('data_table', engine)\n",
    "\n",
    "# Insert another row\n",
    "sql.execute('INSERT INTO data_table VALUES(?,?,?,?,?,?)', engine, params=[('id',9,'Ruby',711.20,'2015-03-27','IT')])\n",
    "\n",
    "# Read from the relational table\n",
    "res = pd.read_sql_query('SELECT ID,Dept,Name,Salary,start_date FROM data_table', engine)\n",
    "print(res)"
   ]
  },
  {
   "cell_type": "code",
   "execution_count": 8,
   "metadata": {},
   "outputs": [
    {
     "name": "stdout",
     "output_type": "stream",
     "text": [
      "   id        dept    name  salary  start_date\n",
      "0   1          IT    Rick   623.3  2012-01-01\n",
      "1   2  Operations     Dan   515.2  2013-09-23\n",
      "2   3          IT   Tusar   611.0  2014-11-15\n",
      "3   4          HR    Ryan   729.0  2014-05-11\n",
      "4   6          IT   Rasmi   578.0  2013-05-21\n",
      "5   7  Operations  Pranab   632.8  2013-07-30\n",
      "6   8     Finance    Guru   722.5  2014-06-17\n"
     ]
    }
   ],
   "source": [
    "#Deleting Data from Relational Tables\n",
    "#We can also delete data into relational tables using sql.execute function available in pandas. \n",
    "#The below code deletes a row based on the input condition given\n",
    "\n",
    "from sqlalchemy import create_engine\n",
    "from pandas.io import sql\n",
    "\n",
    "import pandas as pd\n",
    "\n",
    "data = pd.read_csv('C:/Users/Naum/Desktop/PythonData/csv/input.csv')\n",
    "engine = create_engine('sqlite:///:memory:')\n",
    "data.to_sql('data_table', engine)\n",
    "\n",
    "sql.execute('Delete from data_table where name = (?) ', engine,  params=[('Gary')])\n",
    "\n",
    "res = pd.read_sql_query('SELECT ID,Dept,Name,Salary,start_date FROM data_table', engine)\n",
    "print(res)"
   ]
  },
  {
   "cell_type": "code",
   "execution_count": null,
   "metadata": {},
   "outputs": [],
   "source": []
  }
 ],
 "metadata": {
  "kernelspec": {
   "display_name": "Python 3",
   "language": "python",
   "name": "python3"
  },
  "language_info": {
   "codemirror_mode": {
    "name": "ipython",
    "version": 3
   },
   "file_extension": ".py",
   "mimetype": "text/x-python",
   "name": "python",
   "nbconvert_exporter": "python",
   "pygments_lexer": "ipython3",
   "version": "3.8.5"
  }
 },
 "nbformat": 4,
 "nbformat_minor": 4
}
