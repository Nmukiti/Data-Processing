{
 "cells": [
  {
   "cell_type": "code",
   "execution_count": 4,
   "metadata": {},
   "outputs": [
    {
     "name": "stdout",
     "output_type": "stream",
     "text": [
      "        one       two     three\n",
      "a -0.404978  0.611959  0.858563\n",
      "b       NaN       NaN       NaN\n",
      "c  1.167573 -0.785002 -1.436514\n",
      "d       NaN       NaN       NaN\n",
      "e  0.026307  0.526236 -0.620471\n",
      "f -0.280722  0.654462 -0.531763\n",
      "g       NaN       NaN       NaN\n",
      "h  1.132084  0.819492  1.718819\n"
     ]
    }
   ],
   "source": [
    "# HOW TO HANDLE MISSING VAUES (SAY NA OR NaN) USING PANDAS\n",
    "#When and Why Is Data Missed?\n",
    "#Let us consider an online survey for a product. Many a times, people do not share all the information related to them. \n",
    "#Few people share their experience, but not how long they are using the product; few people share how long they are using the product, \n",
    "#their experience but not their contact information. \n",
    "#Thus, in some or the other way a part of data is always missing, and this is very common in real time.\n",
    "\n",
    "# import the pandas library\n",
    "import pandas as pd\n",
    "import numpy as np\n",
    "\n",
    "df = pd.DataFrame(np.random.randn(5, 3), index=['a', 'c', 'e', 'f',\n",
    "'h'],columns=['one', 'two', 'three'])\n",
    "\n",
    "df = df.reindex(['a', 'b', 'c', 'd', 'e', 'f', 'g', 'h'])\n",
    "\n",
    "print (df)\n",
    "\n",
    "#Using reindexing, we have created a DataFrame with missing values. In the output, NaN means Not a Number."
   ]
  },
  {
   "cell_type": "code",
   "execution_count": 6,
   "metadata": {},
   "outputs": [
    {
     "name": "stdout",
     "output_type": "stream",
     "text": [
      "a    False\n",
      "b     True\n",
      "c    False\n",
      "d     True\n",
      "e    False\n",
      "f    False\n",
      "g     True\n",
      "h    False\n",
      "Name: one, dtype: bool\n"
     ]
    }
   ],
   "source": [
    "#Check for Missing Values\n",
    "#To make detecting missing values easier (and across different array dtypes), Pandas provides the isnull() and notnull() functions, which are also methods on Series and DataFrame objects −\n",
    "\n",
    "import pandas as pd\n",
    "import numpy as np\n",
    " \n",
    "df = pd.DataFrame(np.random.randn(5, 3), index=['a', 'c', 'e', 'f',\n",
    "'h'],columns=['one', 'two', 'three'])\n",
    "\n",
    "df = df.reindex(['a', 'b', 'c', 'd', 'e', 'f', 'g', 'h'])\n",
    "\n",
    "print (df['one'].isnull())"
   ]
  },
  {
   "cell_type": "code",
   "execution_count": 13,
   "metadata": {
    "scrolled": true
   },
   "outputs": [
    {
     "name": "stdout",
     "output_type": "stream",
     "text": [
      "        one       two     three\n",
      "a -0.898904 -1.111084 -1.488127\n",
      "b       NaN       NaN       NaN\n",
      "c  1.622651 -0.743649  0.254247\n",
      "NaN replaced with '0':\n",
      "        one       two     three\n",
      "a -0.898904 -1.111084 -1.488127\n",
      "b  0.000000  0.000000  0.000000\n",
      "c  1.622651 -0.743649  0.254247\n"
     ]
    }
   ],
   "source": [
    "#Cleaning / Filling Missing Data\n",
    "#Pandas provides various methods for cleaning the missing values. The fillna function can “fill in” NA values with non-null data in a couple of ways, which we have illustrated in the following sections.\n",
    "\n",
    "#Replace NaN with a Scalar Value\n",
    "#The following program shows how you can replace \"NaN\" with \"0\".\n",
    "\n",
    "import pandas as pd\n",
    "import numpy as np\n",
    "df = pd.DataFrame(np.random.randn(3, 3), index=['a', 'c', 'e'],columns=['one',\n",
    "'two', 'three'])\n",
    "df = df.reindex(['a', 'b', 'c'])\n",
    "print (df)\n",
    "print (\"NaN replaced with '0':\")\n",
    "print (df.fillna(0))\n",
    "\n",
    "#Here, we are filling with value zero; instead we can also fill with any other value."
   ]
  },
  {
   "cell_type": "code",
   "execution_count": 19,
   "metadata": {},
   "outputs": [
    {
     "name": "stdout",
     "output_type": "stream",
     "text": [
      "        one       two     three\n",
      "a  0.023905  0.022228  1.207015\n",
      "b  0.023905  0.022228  1.207015\n",
      "c -0.048886  1.494077  0.073258\n",
      "d -0.048886  1.494077  0.073258\n",
      "e -0.790526  0.353024 -1.484948\n",
      "f -0.983207  0.525304  1.328283\n",
      "g -0.983207  0.525304  1.328283\n",
      "h -0.286948  0.199849  0.394511\n"
     ]
    }
   ],
   "source": [
    "#Fill NA Forward and Backward\n",
    "#Using the concepts of filling discussed in the ReIndexing Chapter we will fill the missing values.\n",
    "\n",
    "#pad/fill\tFill methods Forward\n",
    "#bfill/backfill\tFill methods Backward\n",
    "\n",
    "import pandas as pd\n",
    "import numpy as np\n",
    "\n",
    "df = pd.DataFrame(np.random.randn(5, 3), index=['a', 'c', 'e', 'f',\n",
    "'h'],columns=['one', 'two', 'three'])\n",
    "df = df.reindex(['a', 'b', 'c', 'd', 'e', 'f', 'g', 'h'])\n",
    "\n",
    "print (df.fillna(method='pad'))"
   ]
  },
  {
   "cell_type": "code",
   "execution_count": 20,
   "metadata": {},
   "outputs": [
    {
     "name": "stdout",
     "output_type": "stream",
     "text": [
      "        one       two     three\n",
      "a -0.529213 -1.104425 -0.166445\n",
      "b -1.343760  2.936996  1.077845\n",
      "c -1.343760  2.936996  1.077845\n",
      "d  1.865368  1.014845  0.591040\n",
      "e  1.865368  1.014845  0.591040\n",
      "f  1.030691 -0.082928 -0.237517\n",
      "g  2.181176 -1.112489  1.257358\n",
      "h  2.181176 -1.112489  1.257358\n"
     ]
    }
   ],
   "source": [
    "#bfill/backfill\tFill methods Backward\n",
    "\n",
    "import pandas as pd\n",
    "import numpy as np\n",
    "\n",
    "df = pd.DataFrame(np.random.randn(5, 3), index=['a', 'c', 'e', 'f',\n",
    "'h'],columns=['one', 'two', 'three'])\n",
    "df = df.reindex(['a', 'b', 'c', 'd', 'e', 'f', 'g', 'h'])\n",
    "\n",
    "print (df.fillna(method='bfill'))"
   ]
  },
  {
   "cell_type": "code",
   "execution_count": 21,
   "metadata": {},
   "outputs": [
    {
     "name": "stdout",
     "output_type": "stream",
     "text": [
      "        one       two     three\n",
      "a -0.270560  1.520380  0.061938\n",
      "c  1.179086 -0.588073 -2.695496\n",
      "e -1.800805  1.752843  0.001533\n",
      "f  1.622232  1.303248 -0.520807\n",
      "h  1.319475  1.264370 -0.364112\n"
     ]
    }
   ],
   "source": [
    "#Drop Missing Values\n",
    "#If you want to simply exclude the missing values, then use the dropna function along with the axis argument. \n",
    "#By default, axis=0, i.e., along row, which means that if any value within a row is NA then the whole row is excluded\n",
    "\n",
    "import pandas as pd\n",
    "import numpy as np\n",
    "\n",
    "df = pd.DataFrame(np.random.randn(5, 3), index=['a', 'c', 'e', 'f',\n",
    "'h'],columns=['one', 'two', 'three'])\n",
    "\n",
    "df = df.reindex(['a', 'b', 'c', 'd', 'e', 'f', 'g', 'h'])\n",
    "print (df.dropna())"
   ]
  },
  {
   "cell_type": "code",
   "execution_count": 25,
   "metadata": {},
   "outputs": [
    {
     "name": "stdout",
     "output_type": "stream",
     "text": [
      "   one  two\n",
      "0   10   10\n",
      "1   20    0\n",
      "2   30   30\n",
      "3   40   40\n",
      "4   50   50\n",
      "5   70   60\n"
     ]
    }
   ],
   "source": [
    "#Replace Missing (or) Generic Values\n",
    "#Many times, we have to replace a generic value with some specific value. We can achieve this by applying the replace method.\n",
    "\n",
    "#Replacing NA with a scalar value is equivalent behavior of the fillna() function.\n",
    "\n",
    "import pandas as pd\n",
    "import numpy as np\n",
    "df = pd.DataFrame({'one':[10,20,30,40,50,2000],\n",
    "'two':[1000,0,30,40,50,60]})\n",
    "print (df.replace({1000:10,2000:60}))\n",
    "\n",
    "#1000 is replaced with 10 and 2000 is replaced with 60"
   ]
  },
  {
   "cell_type": "code",
   "execution_count": null,
   "metadata": {},
   "outputs": [],
   "source": []
  }
 ],
 "metadata": {
  "kernelspec": {
   "display_name": "Python 3",
   "language": "python",
   "name": "python3"
  },
  "language_info": {
   "codemirror_mode": {
    "name": "ipython",
    "version": 3
   },
   "file_extension": ".py",
   "mimetype": "text/x-python",
   "name": "python",
   "nbconvert_exporter": "python",
   "pygments_lexer": "ipython3",
   "version": "3.8.5"
  }
 },
 "nbformat": 4,
 "nbformat_minor": 4
}
