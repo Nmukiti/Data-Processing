{
 "cells": [
  {
   "cell_type": "code",
   "execution_count": 3,
   "metadata": {
    "scrolled": true
   },
   "outputs": [
    {
     "name": "stdout",
     "output_type": "stream",
     "text": [
      "{'Address': 'Sears Streer, NZ',\n",
      " 'Age': '42',\n",
      " 'Name': 'Raj Kumar',\n",
      " '_id': ObjectId('604f19a3f88f5f47d923fca5')}\n"
     ]
    }
   ],
   "source": [
    "#Inserting Data\n",
    "#To insert data into MongoDB we use the insert() method which is available in the database environment.\n",
    "#First we connect to the db using python code shown below and then we provide the document details in form of a series of key-value pairs.\n",
    "\n",
    "# Import the python libraries\n",
    "from pymongo import MongoClient\n",
    "from pprint import pprint\n",
    "\n",
    "# Choose the appropriate client\n",
    "client = MongoClient()\n",
    "\n",
    "# Connect to the test db \n",
    "db=client.test\n",
    "\n",
    "# Use the employee collection\n",
    "employee = db.employee\n",
    "employee_details = {\n",
    "    'Name': 'Raj Kumar',\n",
    "    'Address': 'Sears Streer, NZ',\n",
    "    'Age': '42'\n",
    "}\n",
    "\n",
    "# Use the insert method\n",
    "result = employee.insert_one(employee_details)\n",
    "\n",
    "# Query for the inserted document.\n",
    "Queryresult = employee.find_one({'Age': '42'})\n",
    "pprint(Queryresult)"
   ]
  },
  {
   "cell_type": "code",
   "execution_count": 4,
   "metadata": {},
   "outputs": [
    {
     "name": "stdout",
     "output_type": "stream",
     "text": [
      "{'Address': 'New Omsk, WC',\n",
      " 'Age': '35',\n",
      " 'Name': 'Srinidhi',\n",
      " '_id': ObjectId('604f19a3f88f5f47d923fca5')}\n"
     ]
    }
   ],
   "source": [
    "#Updating Data\n",
    "#Updating an existing MongoDB data is similar to inserting. We use the update() method which is native to mongoDB. In the below code we are replacing the existing record with new key-value pairs. \n",
    "#Please note how we are using the condition criteria to decide which record to update.\n",
    "\n",
    "# Import the python libraries\n",
    "from pymongo import MongoClient\n",
    "from pprint import pprint\n",
    "\n",
    "# Choose the appropriate client\n",
    "client = MongoClient()\n",
    "\n",
    "# Connect to db\n",
    "db=client.test\n",
    "employee = db.employee\n",
    "\n",
    "# Use the condition to choose the record\n",
    "# and use the update method\n",
    "db.employee.update_one(\n",
    "        {\"Age\":'42'},\n",
    "        {\n",
    "        \"$set\": {\n",
    "            \"Name\":\"Srinidhi\",\n",
    "            \"Age\":'35',\n",
    "            \"Address\":\"New Omsk, WC\"\n",
    "        }\n",
    "        }\n",
    "    )\n",
    "\n",
    "Queryresult = employee.find_one({'Age':'35'})\n",
    "\n",
    "pprint(Queryresult)"
   ]
  },
  {
   "cell_type": "code",
   "execution_count": 5,
   "metadata": {},
   "outputs": [
    {
     "name": "stdout",
     "output_type": "stream",
     "text": [
      "None\n"
     ]
    }
   ],
   "source": [
    "#Deleting Data\n",
    "#Deleting a record is also straight forward where we use the delete method. \n",
    "#Here also we mention the condition which is used to choose the record to be deleted.\n",
    "\n",
    "# Import the python libraries\n",
    "from pymongo import MongoClient\n",
    "from pprint import pprint\n",
    "\n",
    "# Choose the appropriate client\n",
    "client = MongoClient()\n",
    "\n",
    "# Connect to db\n",
    "db=client.test\n",
    "employee = db.employee\n",
    "\n",
    "# Use the condition to choose the record\n",
    "# and use the delete method\n",
    "db.employee.delete_one({\"Age\":'35'})\n",
    "\n",
    "Queryresult = employee.find_one({'Age':'35'})\n",
    "\n",
    "pprint(Queryresult)\n",
    "\n",
    "#So we see the particular record does not exist in the db any more."
   ]
  }
 ],
 "metadata": {
  "kernelspec": {
   "display_name": "Python 3",
   "language": "python",
   "name": "python3"
  },
  "language_info": {
   "codemirror_mode": {
    "name": "ipython",
    "version": 3
   },
   "file_extension": ".py",
   "mimetype": "text/x-python",
   "name": "python",
   "nbconvert_exporter": "python",
   "pygments_lexer": "ipython3",
   "version": "3.8.5"
  }
 },
 "nbformat": 4,
 "nbformat_minor": 4
}
