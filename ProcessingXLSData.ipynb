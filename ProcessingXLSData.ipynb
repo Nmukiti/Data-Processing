{
 "cells": [
  {
   "cell_type": "code",
   "execution_count": null,
   "metadata": {},
   "outputs": [],
   "source": [
    "#Input as Excel File\n",
    "#We Create an excel file with multiple sheets in the windows OS. The Data in the different sheets is as shown below.\n",
    "\n",
    "#You can create this file using the Excel Program in windows OS. Save the file as input.xlsx.\n",
    "\n",
    "# Data in Sheet1\n",
    "\n",
    "id,name,salary,start_date,dept\n",
    "1,Rick,623.3,2012-01-01,IT\n",
    "2,Dan,515.2,2013-09-23,Operations\n",
    "3,Tusar,611,2014-11-15,IT\n",
    "4,Ryan,729,2014-05-11,HR\n",
    "5,Gary,843.25,2015-03-27,Finance\n",
    "6,Rasmi,578,2013-05-21,IT\n",
    "7,Pranab,632.8,2013-07-30,Operations\n",
    "8,Guru,722.5,2014-06-17,Finance\n",
    "\n",
    "# Data in Sheet2\n",
    "\n",
    "id\tname\tzipcode\n",
    "1\tRick\t301224\n",
    "2\tDan\t341255\n",
    "3\tTusar\t297704\n",
    "4\tRyan\t216650\n",
    "5\tGary\t438700\n",
    "6\tRasmi\t665100\n",
    "7\tPranab\t341211\n",
    "8\tGuru\t347480"
   ]
  },
  {
   "cell_type": "code",
   "execution_count": 5,
   "metadata": {},
   "outputs": [
    {
     "name": "stdout",
     "output_type": "stream",
     "text": [
      "   id    name  salary start_date        dept\n",
      "0   1    Rick  623.30 2012-01-01          IT\n",
      "1   2     Dan  515.20 2013-09-23  Operations\n",
      "2   3   Tusar  611.00 2014-11-15          IT\n",
      "3   4    Ryan  729.00 2014-05-11          HR\n",
      "4   5    Gary  843.25 2015-03-27     Finance\n",
      "5   6   Rasmi  578.00 2013-05-21          IT\n",
      "6   7  Pranab  632.80 2013-07-30  Operations\n",
      "7   8    Guru  722.50 2014-06-17     Finance\n"
     ]
    }
   ],
   "source": [
    "#Reading an Excel File\n",
    "#The read_excel function of the pandas library is used read the content of an Excel file into the python environment as a pandas DataFrame.\n",
    "#The function can read the files from the OS by using proper path to the file. By default, the function will read Sheet1.\n",
    "\n",
    "import pandas as pd\n",
    "data = pd.read_excel('C:/Users/Naum/Desktop/PythonData/xlsx/input.xlsx')\n",
    "print (data)"
   ]
  },
  {
   "cell_type": "code",
   "execution_count": 6,
   "metadata": {},
   "outputs": [
    {
     "name": "stdout",
     "output_type": "stream",
     "text": [
      "   salary   name\n",
      "1   515.2    Dan\n",
      "3   729.0   Ryan\n",
      "5   578.0  Rasmi\n"
     ]
    }
   ],
   "source": [
    "#Reading Specific Columns and Rows\n",
    "#Similar to what we have already seen in the previous chapter to read the CSV file, the read_excel function of the pandas library can also be used to read some specific columns and specific rows. We use the multi-axes indexing method called .loc() for this purpose. \n",
    "#We choose to display the salary and name column for some of the rows.\n",
    "\n",
    "import pandas as pd\n",
    "data = pd.read_excel('C:/Users/Naum/Desktop/PythonData/xlsx/input.xlsx')\n",
    "\n",
    "# Use the multi-axes indexing funtion\n",
    "print (data.loc[[1,3,5],['salary','name']])"
   ]
  },
  {
   "cell_type": "code",
   "execution_count": 7,
   "metadata": {},
   "outputs": [
    {
     "name": "stdout",
     "output_type": "stream",
     "text": [
      "****Result Sheet 1****\n",
      "0    623.30\n",
      "1    515.20\n",
      "2    611.00\n",
      "3    729.00\n",
      "4    843.25\n",
      "Name: salary, dtype: float64\n",
      "\n",
      "***Result Sheet 2****\n",
      "0    301224\n",
      "1    341255\n",
      "2    297704\n",
      "3    216650\n",
      "4    438700\n",
      "Name: zipcode, dtype: int64\n"
     ]
    }
   ],
   "source": [
    "#Reading Multiple Excel Sheets\n",
    "#Multiple sheets with different Data formats can also be read by using read_excel function with help of a wrapper class named ExcelFile. \n",
    "#It will read the multiple sheets into memory only once. \n",
    "#In the below example we read sheet1 and sheet2 into two data frames and print them out individually.\n",
    "\n",
    "import pandas as pd\n",
    "with pd.ExcelFile('C:/Users/Naum/Desktop/PythonData/xlsx/input.xlsx') as xls:\n",
    "    df1 = pd.read_excel(xls, 'Sheet1')\n",
    "    df2 = pd.read_excel(xls, 'Sheet2')\n",
    "\n",
    "print(\"****Result Sheet 1****\")\n",
    "print (df1[0:5]['salary'])\n",
    "print(\"\")\n",
    "print(\"***Result Sheet 2****\")\n",
    "print (df2[0:5]['zipcode'])"
   ]
  }
 ],
 "metadata": {
  "kernelspec": {
   "display_name": "Python 3",
   "language": "python",
   "name": "python3"
  },
  "language_info": {
   "codemirror_mode": {
    "name": "ipython",
    "version": 3
   },
   "file_extension": ".py",
   "mimetype": "text/x-python",
   "name": "python",
   "nbconvert_exporter": "python",
   "pygments_lexer": "ipython3",
   "version": "3.8.5"
  }
 },
 "nbformat": 4,
 "nbformat_minor": 4
}
