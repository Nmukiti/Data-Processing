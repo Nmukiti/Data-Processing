{
 "cells": [
  {
   "cell_type": "code",
   "execution_count": 4,
   "metadata": {},
   "outputs": [
    {
     "name": "stdout",
     "output_type": "stream",
     "text": [
      "The Date Today is  : 2021-03-15 11:42:27.524630\n",
      "2021-03-15\n",
      "This Year   : 2021\n",
      "This Month    : 3\n",
      "Month Name: March\n",
      "This Week Day    : 15\n",
      "Week Day Name: Monday\n"
     ]
    }
   ],
   "source": [
    "#Date Time Representation\n",
    "#A date and its various parts are represented by using different datetime functions. Also, there are format specifiers which play a role in displaying the alphabetical parts of a date like name of the month or week day. \n",
    "#The following code shows today's date and various parts of the date.\n",
    "\n",
    "import datetime\n",
    "\n",
    "print ('The Date Today is  :', datetime.datetime.today())\n",
    "\n",
    "date_today = datetime.date.today()\n",
    "print (date_today) \n",
    "print ('This Year   :', date_today.year)\n",
    "print ('This Month    :', date_today.month)\n",
    "print ('Month Name:',date_today.strftime('%B'))\n",
    "print ('This Week Day    :', date_today.day)\n",
    "print ('Week Day Name:',date_today.strftime('%A'))"
   ]
  },
  {
   "cell_type": "code",
   "execution_count": 12,
   "metadata": {},
   "outputs": [
    {
     "name": "stdout",
     "output_type": "stream",
     "text": [
      "day1: Mon Feb 12 00:00:00 2018\n",
      "day2: Fri Aug 18 00:00:00 2017\n",
      "Number of Days: 178 days, 0:00:00\n",
      "Before Four Days: 2021-03-11\n",
      "After Four Days: 2021-03-19\n"
     ]
    }
   ],
   "source": [
    "#Date Time Arithmetic\n",
    "#For calculations involving dates we store the various dates into variables and apply the relevant mathematical operator to these variables.\n",
    "\n",
    "import datetime \n",
    " \n",
    "#Capture the First Date\n",
    "day1 = datetime.date(2018, 2, 12)\n",
    "print ('day1:', day1.ctime())\n",
    "\n",
    "# Capture the Second Date\n",
    "day2 = datetime.date(2017, 8, 18)\n",
    "print ('day2:', day2.ctime())\n",
    "\n",
    "# Find the difference between the dates\n",
    "print ('Number of Days:', day1-day2)\n",
    "\n",
    "\n",
    "date_today  = datetime.date.today() \n",
    "\n",
    "# Create a delta of Four Days \n",
    "no_of_days = datetime.timedelta(days=4) \n",
    "\n",
    "# Use Delta for Past Date\n",
    "before_four_days = date_today - no_of_days \n",
    "print ('Before Four Days:', before_four_days)\n",
    " \n",
    "# Use Delta for future Date\n",
    "after_four_days = date_today + no_of_days \n",
    "print ('After Four Days:', after_four_days)"
   ]
  },
  {
   "cell_type": "code",
   "execution_count": 14,
   "metadata": {},
   "outputs": [
    {
     "name": "stdout",
     "output_type": "stream",
     "text": [
      "Today is:  2021-03-15\n",
      "Before Four Days: 2021-03-11\n",
      "date1: 2018-04-04\n",
      "Past Date\n",
      "Future Date\n"
     ]
    }
   ],
   "source": [
    "#Date Time Comparison\n",
    "#Date and time are compared using logical operators. \n",
    "#But we must be careful in comparing the right parts of the dates with each other. In the below examples we take the future and past dates and compare them using the python if clause along with logical operators.\n",
    "\n",
    "import datetime\n",
    "\n",
    "date_today  = datetime.date.today() \n",
    "\n",
    "print ('Today is: ', date_today)\n",
    "# Create a delta of Four Days \n",
    "no_of_days = datetime.timedelta(days=4) \n",
    "\n",
    "# Use Delta for Past Date\n",
    "before_four_days = date_today - no_of_days \n",
    "print ('Before Four Days:', before_four_days)\n",
    "\n",
    "after_four_days =  date_today + no_of_days\n",
    "\n",
    "date1 = datetime.date(2018,4,4)\n",
    "\n",
    "print ('date1:',date1)\n",
    "\n",
    "if date1 == before_four_days :\n",
    "    print ('Same Dates')\n",
    "if date_today > date1:\n",
    "    print ('Past Date')\n",
    "if date1 < after_four_days:\n",
    "    print ('Future Date')"
   ]
  }
 ],
 "metadata": {
  "kernelspec": {
   "display_name": "Python 3",
   "language": "python",
   "name": "python3"
  },
  "language_info": {
   "codemirror_mode": {
    "name": "ipython",
    "version": 3
   },
   "file_extension": ".py",
   "mimetype": "text/x-python",
   "name": "python",
   "nbconvert_exporter": "python",
   "pygments_lexer": "ipython3",
   "version": "3.8.5"
  }
 },
 "nbformat": 4,
 "nbformat_minor": 4
}
